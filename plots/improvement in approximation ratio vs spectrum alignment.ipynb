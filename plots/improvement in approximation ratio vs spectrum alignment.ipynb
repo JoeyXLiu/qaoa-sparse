{
 "cells": [
  {
   "cell_type": "code",
   "execution_count": 6,
   "id": "brown-inspector",
   "metadata": {},
   "outputs": [],
   "source": [
    "import pandas as pd\n",
    "import numpy as np\n",
    "import pickle\n",
    "import networkx as nx\n",
    "from functools import partial\n",
    "from operator import itemgetter\n",
    "from collections import defaultdict\n",
    "import matplotlib.pyplot as plt\n",
    "from tqdm import tqdm\n",
    "tqdm.pandas()\n",
    "\n",
    "from QAOAKit.utils import maxcut_obj, get_adjacency_matrix"
   ]
  },
  {
   "cell_type": "code",
   "execution_count": 2,
   "id": "recovered-domain",
   "metadata": {},
   "outputs": [],
   "source": [
    "df = pd.read_pickle(\"../data.p\")"
   ]
  },
  {
   "cell_type": "code",
   "execution_count": 2,
   "id": "neural-accent",
   "metadata": {},
   "outputs": [],
   "source": [
    "def load_graph(gname, type_name, target_nnodes=None):\n",
    "    G = nx.read_weighted_edgelist(f'../graphs/{gname}/{type_name}')\n",
    "    G = nx.relabel_nodes(G, {x: int(x) for x in G.nodes})\n",
    "    if target_nnodes is not None:\n",
    "        assert G.number_of_nodes() <= target_nnodes\n",
    "        if G.number_of_nodes() < target_nnodes:\n",
    "            for n in range(target_nnodes):\n",
    "                if n not in G.nodes:\n",
    "                    G.add_node(n)\n",
    "    assert set(G.nodes) == set(range(G.number_of_nodes()))\n",
    "    return G\n",
    "\n",
    "def brute_force(obj_f, num_variables, minimize=False):\n",
    "    \"\"\"Get the maximum of a function by complete enumeration\n",
    "    Returns the maximum value and the extremizing bit string\n",
    "    \"\"\"\n",
    "    if minimize:\n",
    "        best_cost_brute = float(\"inf\")\n",
    "        compare = lambda x, y: x < y\n",
    "    else:\n",
    "        best_cost_brute = float(\"-inf\")\n",
    "        compare = lambda x, y: x > y\n",
    "    bit_strings = (\n",
    "        (\n",
    "            (\n",
    "                np.array(range(2 ** num_variables))[:, None]\n",
    "                & (1 << np.arange(num_variables))\n",
    "            )\n",
    "        )\n",
    "        > 0\n",
    "    ).astype(int)\n",
    "    xbest_brute = set()\n",
    "    for x in bit_strings:\n",
    "        cost = obj_f(np.array(x))\n",
    "        x = ''.join(str(y) for y in x)\n",
    "        if np.isclose(cost, best_cost_brute):\n",
    "            xbest_brute.add(x)\n",
    "        elif compare(cost, best_cost_brute):\n",
    "            best_cost_brute = cost\n",
    "            xbest_brute.clear()\n",
    "            xbest_brute.add(x)\n",
    "    return best_cost_brute, xbest_brute\n",
    "\n",
    "def brute_force_wrap(G):\n",
    "    obj = partial(maxcut_obj, w=get_adjacency_matrix(G))\n",
    "    return brute_force(obj, G.number_of_nodes())"
   ]
  },
  {
   "cell_type": "code",
   "execution_count": 3,
   "id": "objective-flashing",
   "metadata": {},
   "outputs": [],
   "source": [
    "def get_energy_levels(obj_f, num_variables, minimize=False):\n",
    "    \"\"\"Get the energy levels of a function by complete enumeration\n",
    "    \"\"\"\n",
    "    if minimize:\n",
    "        best_cost_brute = float(\"inf\")\n",
    "        compare = lambda x, y: x < y\n",
    "    else:\n",
    "        best_cost_brute = float(\"-inf\")\n",
    "        compare = lambda x, y: x > y\n",
    "    bit_strings = (\n",
    "        (\n",
    "            (\n",
    "                np.array(range(2 ** num_variables))[:, None]\n",
    "                & (1 << np.arange(num_variables))\n",
    "            )\n",
    "        )\n",
    "        > 0\n",
    "    ).astype(int)\n",
    "    spectrum = defaultdict(set)\n",
    "    for x in bit_strings:\n",
    "        cost = obj_f(np.array(x))\n",
    "        assert np.isclose(cost, int(cost))\n",
    "        cost = int(cost)\n",
    "        x = ''.join(str(y) for y in x)\n",
    "        spectrum[cost].add(x)\n",
    "    return spectrum\n",
    "\n",
    "\n",
    "def get_energy_levels_wrap(G):\n",
    "    obj = partial(maxcut_obj, w=get_adjacency_matrix(G))\n",
    "    return get_energy_levels(obj, G.number_of_nodes())"
   ]
  },
  {
   "cell_type": "code",
   "execution_count": 107,
   "id": "suspended-glance",
   "metadata": {},
   "outputs": [
    {
     "data": {
      "text/plain": [
       "Text(0.5, 0.98, '')"
      ]
     },
     "execution_count": 107,
     "metadata": {},
     "output_type": "execute_result"
    },
    {
     "data": {
      "image/png": "[encoded data removed]",
      "text/plain": [
       "<Figure size 432x288 with 1 Axes>"
      ]
     },
     "metadata": {
      "needs_background": "light"
     },
     "output_type": "display_data"
    }
   ],
   "source": [
    "import matplotlib.pyplot as plt\n",
    "df.boxplot('Improvement in Approximation Ratio', by='ground state matches')\n",
    "plt.suptitle('')"
   ]
  },
  {
   "cell_type": "code",
   "execution_count": null,
   "id": "blocked-winning",
   "metadata": {},
   "outputs": [],
   "source": [
    "df['nx_G'] = df.apply(\n",
    "    lambda row: load_graph(row['G'], 'graph'),\n",
    "    axis = 1\n",
    ")"
   ]
  },
  {
   "cell_type": "code",
   "execution_count": 33,
   "id": "conceptual-charleston",
   "metadata": {},
   "outputs": [],
   "source": [
    "df['nx_S'] = df.apply(\n",
    "    lambda row: load_graph(row['G'], row['S'], target_nnodes=row['nx_G'].number_of_nodes()),\n",
    "    axis = 1\n",
    ")"
   ]
  },
  {
   "cell_type": "code",
   "execution_count": 5,
   "id": "naughty-stationery",
   "metadata": {
    "scrolled": true
   },
   "outputs": [
    {
     "name": "stderr",
     "output_type": "stream",
     "text": [
      "100%|██████████| 1836/1836 [09:10<00:00,  3.33it/s]\n"
     ]
    }
   ],
   "source": [
    "df[[\n",
    "    'opt cost G', \n",
    "    'opt strs G',\n",
    "]] = df.progress_apply(\n",
    "    lambda row: brute_force_wrap(row['nx_G']),\n",
    "    axis=1,\n",
    "    result_type='expand'\n",
    ")"
   ]
  },
  {
   "cell_type": "code",
   "execution_count": 35,
   "id": "rising-radio",
   "metadata": {},
   "outputs": [],
   "source": [
    "assert all(df['opt'] == df['opt cost G'])"
   ]
  },
  {
   "cell_type": "code",
   "execution_count": 34,
   "id": "provincial-welding",
   "metadata": {
    "scrolled": true
   },
   "outputs": [
    {
     "name": "stderr",
     "output_type": "stream",
     "text": [
      "100%|██████████| 1836/1836 [10:09<00:00,  3.01it/s]\n"
     ]
    }
   ],
   "source": [
    "df[[\n",
    "    'opt cost S', \n",
    "    'opt strs S',\n",
    "]] = df.progress_apply(\n",
    "    lambda row: brute_force_wrap(row['nx_S']),\n",
    "    axis=1,\n",
    "    result_type='expand'\n",
    ")"
   ]
  },
  {
   "cell_type": "code",
   "execution_count": 89,
   "id": "thorough-shuttle",
   "metadata": {},
   "outputs": [],
   "source": [
    "df['ground state matches'] = df.apply(\n",
    "    lambda row: row['opt strs S'].issubset(row['opt strs G']) or row['opt strs G'].issubset(row['opt strs S']),\n",
    "    axis = 1\n",
    ")"
   ]
  },
  {
   "cell_type": "code",
   "execution_count": 101,
   "id": "weighted-breath",
   "metadata": {},
   "outputs": [],
   "source": [
    "df['Improvement in Approximation Ratio'] = df['rho_S'] - df['rho_G']"
   ]
  },
  {
   "cell_type": "code",
   "execution_count": 107,
   "id": "horizontal-sound",
   "metadata": {},
   "outputs": [
    {
     "data": {
      "text/plain": [
       "Text(0.5, 0.98, '')"
      ]
     },
     "execution_count": 107,
     "metadata": {},
     "output_type": "execute_result"
    },
    {
     "data": {
      "image/png": "[encoded data removed]",
      "text/plain": [
       "<Figure size 432x288 with 1 Axes>"
      ]
     },
     "metadata": {
      "needs_background": "light"
     },
     "output_type": "display_data"
    }
   ],
   "source": [
    "import matplotlib.pyplot as plt\n",
    "df.boxplot('Improvement in Approximation Ratio', by='ground state matches')\n",
    "plt.suptitle('')"
   ]
  },
  {
   "cell_type": "code",
   "execution_count": 110,
   "id": "periodic-genesis",
   "metadata": {},
   "outputs": [],
   "source": [
    "df['ground state energy matches'] = df.apply(\n",
    "    lambda row: np.isclose(row['opt cost G'], row['opt cost S']),\n",
    "    axis = 1\n",
    ")"
   ]
  },
  {
   "cell_type": "code",
   "execution_count": 111,
   "id": "acquired-charles",
   "metadata": {},
   "outputs": [
    {
     "data": {
      "text/plain": [
       "Text(0.5, 0.98, '')"
      ]
     },
     "execution_count": 111,
     "metadata": {},
     "output_type": "execute_result"
    },
    {
     "data": {
      "image/png": "[encoded data removed]",
      "text/plain": [
       "<Figure size 432x288 with 1 Axes>"
      ]
     },
     "metadata": {
      "needs_background": "light"
     },
     "output_type": "display_data"
    }
   ],
   "source": [
    "import matplotlib.pyplot as plt\n",
    "df.boxplot('Improvement in Approximation Ratio', by='ground state energy matches')\n",
    "plt.suptitle('')"
   ]
  },
  {
   "cell_type": "code",
   "execution_count": 177,
   "id": "nuclear-france",
   "metadata": {},
   "outputs": [],
   "source": [
    "# df.to_pickle('../data_processed_with_full_spectrum.p')\n",
    "# df = pd.read_pickle('../data_processed.p')"
   ]
  },
  {
   "cell_type": "code",
   "execution_count": 164,
   "id": "referenced-geometry",
   "metadata": {
    "scrolled": true
   },
   "outputs": [
    {
     "name": "stderr",
     "output_type": "stream",
     "text": [
      "100%|██████████| 1836/1836 [09:45<00:00,  3.14it/s]\n"
     ]
    }
   ],
   "source": [
    "df['spectrum G'] = df.progress_apply(\n",
    "    lambda row: get_energy_levels_wrap(row['nx_G']),\n",
    "    axis=1,\n",
    ")"
   ]
  },
  {
   "cell_type": "code",
   "execution_count": 165,
   "id": "viral-divorce",
   "metadata": {
    "scrolled": true
   },
   "outputs": [
    {
     "name": "stderr",
     "output_type": "stream",
     "text": [
      "100%|██████████| 1836/1836 [09:31<00:00,  3.21it/s]\n"
     ]
    }
   ],
   "source": [
    "df['spectrum S'] = df.progress_apply(\n",
    "    lambda row: get_energy_levels_wrap(row['nx_S']),\n",
    "    axis=1,\n",
    ")"
   ]
  },
  {
   "cell_type": "code",
   "execution_count": 166,
   "id": "brown-english",
   "metadata": {},
   "outputs": [],
   "source": [
    "assert df.apply(\n",
    "    lambda row: max(row['spectrum G'].keys()) == row['opt cost G'],\n",
    "    axis = 1\n",
    ").all()\n",
    "\n",
    "assert df.apply(\n",
    "    lambda row: max(row['spectrum S'].keys()) == row['opt cost S'],\n",
    "    axis = 1\n",
    ").all()\n",
    "\n",
    "assert df.apply(\n",
    "    lambda row: row['spectrum G'][int(row['opt cost G'])] == row['opt strs G'],\n",
    "    axis = 1\n",
    ").all()\n",
    "\n",
    "assert df.apply(\n",
    "    lambda row: row['spectrum S'][int(row['opt cost S'])] == row['opt strs S'],\n",
    "    axis = 1\n",
    ").all()"
   ]
  },
  {
   "cell_type": "code",
   "execution_count": 167,
   "id": "agricultural-filter",
   "metadata": {},
   "outputs": [],
   "source": [
    "df['energy spectrum G'] = df.apply(\n",
    "    lambda row: sorted(row['spectrum G'].keys(), reverse=True),\n",
    "    axis = 1,\n",
    ")\n",
    "df['energy spectrum S'] = df.apply(\n",
    "    lambda row: sorted(row['spectrum S'].keys(), reverse=True),\n",
    "    axis = 1,\n",
    ")"
   ]
  },
  {
   "cell_type": "code",
   "execution_count": 168,
   "id": "tough-welsh",
   "metadata": {},
   "outputs": [],
   "source": [
    "def number_of_matching_energy_levels(spectrum1, spectrum2):\n",
    "    num_matching = 0\n",
    "    for idx, (v1,v2) in enumerate(zip(spectrum1, spectrum2)):\n",
    "        if not np.isclose(v1,v2):\n",
    "            break\n",
    "        num_matching += 1\n",
    "    assert num_matching <= min(len(spectrum1), len(spectrum2))\n",
    "    return num_matching"
   ]
  },
  {
   "cell_type": "code",
   "execution_count": 169,
   "id": "neural-decimal",
   "metadata": {},
   "outputs": [],
   "source": [
    "df['num matching energy levels'] = df.apply(\n",
    "    lambda row: number_of_matching_energy_levels(row['energy spectrum G'], row['energy spectrum S']),\n",
    "    axis = 1,\n",
    ")"
   ]
  },
  {
   "cell_type": "code",
   "execution_count": 170,
   "id": "temporal-split",
   "metadata": {},
   "outputs": [
    {
     "data": {
      "text/plain": [
       "Text(0.5, 0.98, '')"
      ]
     },
     "execution_count": 170,
     "metadata": {},
     "output_type": "execute_result"
    },
    {
     "data": {
      "image/png": "[encoded data removed]",
      "text/plain": [
       "<Figure size 432x288 with 1 Axes>"
      ]
     },
     "metadata": {
      "needs_background": "light"
     },
     "output_type": "display_data"
    }
   ],
   "source": [
    "df.boxplot('Improvement in Approximation Ratio', by='num matching energy levels')\n",
    "plt.suptitle('')"
   ]
  },
  {
   "cell_type": "code",
   "execution_count": 171,
   "id": "roman-straight",
   "metadata": {},
   "outputs": [],
   "source": [
    "df['ratio matching energy levels'] = df.apply(\n",
    "    lambda row: number_of_matching_energy_levels(\n",
    "        row['energy spectrum G'], row['energy spectrum S']\n",
    "    ) / max(len(row['energy spectrum G']), len(row['energy spectrum S'])),\n",
    "    axis = 1,\n",
    ")"
   ]
  },
  {
   "cell_type": "code",
   "execution_count": 173,
   "id": "cordless-painting",
   "metadata": {},
   "outputs": [
    {
     "data": {
      "text/plain": [
       "Text(0.5, 0.98, '')"
      ]
     },
     "execution_count": 173,
     "metadata": {},
     "output_type": "execute_result"
    },
    {
     "data": {
      "image/png": "[encoded data removed]",
      "text/plain": [
       "<Figure size 432x288 with 1 Axes>"
      ]
     },
     "metadata": {
      "needs_background": "light"
     },
     "output_type": "display_data"
    }
   ],
   "source": [
    "import matplotlib.pyplot as plt\n",
    "df.boxplot('Improvement in Approximation Ratio', by='ratio matching energy levels')\n",
    "plt.suptitle('')"
   ]
  },
  {
   "cell_type": "code",
   "execution_count": 175,
   "id": "worthy-cattle",
   "metadata": {},
   "outputs": [
    {
     "data": {
      "text/plain": [
       "Text(0.5, 0.98, '')"
      ]
     },
     "execution_count": 175,
     "metadata": {},
     "output_type": "execute_result"
    },
    {
     "data": {
      "image/png": "[encoded data removed]",
      "text/plain": [
       "<Figure size 432x288 with 1 Axes>"
      ]
     },
     "metadata": {
      "needs_background": "light"
     },
     "output_type": "display_data"
    }
   ],
   "source": [
    "df['ratio matching energy levels truncated'] = df.apply(\n",
    "    lambda row: f\"{row['ratio matching energy levels']:.3f}\",\n",
    "    axis =1 \n",
    ")\n",
    "df.boxplot('Improvement in Approximation Ratio', by='ratio matching energy levels truncated')\n",
    "plt.suptitle('')"
   ]
  },
  {
   "cell_type": "markdown",
   "id": "eleven-mitchell",
   "metadata": {},
   "source": [
    "# Generate the figure"
   ]
  },
  {
   "cell_type": "code",
   "execution_count": 4,
   "id": "ignored-superintendent",
   "metadata": {},
   "outputs": [],
   "source": [
    "df = pd.read_pickle('../data_processed.p')"
   ]
  },
  {
   "cell_type": "code",
   "execution_count": 7,
   "id": "aerial-eating",
   "metadata": {},
   "outputs": [],
   "source": [
    "df['state spectrum G'] = df.apply(\n",
    "    lambda row: [x[1] for x in sorted(row['spectrum G'].items(), key=itemgetter(0), reverse=True)],\n",
    "    axis = 1,\n",
    ")\n",
    "df['state spectrum S'] = df.apply(\n",
    "    lambda row: [x[1] for x in sorted(row['spectrum S'].items(), key=itemgetter(0), reverse=True)],\n",
    "    axis = 1,\n",
    ")"
   ]
  },
  {
   "cell_type": "code",
   "execution_count": 8,
   "id": "closing-reggae",
   "metadata": {},
   "outputs": [],
   "source": [
    "def number_of_matching_energy_subspaces(spectrum1, spectrum2):\n",
    "    num_matching = 0\n",
    "    for idx, (v1,v2) in enumerate(zip(spectrum1, spectrum2)):\n",
    "        if not v1.issubset(v2):\n",
    "            break\n",
    "        num_matching += 1\n",
    "    assert num_matching <= min(len(spectrum1), len(spectrum2))\n",
    "    return num_matching"
   ]
  },
  {
   "cell_type": "code",
   "execution_count": 12,
   "id": "greater-coaching",
   "metadata": {},
   "outputs": [],
   "source": [
    "df['Number of aligned energy levels'] = df.apply(\n",
    "    lambda row: number_of_matching_energy_subspaces(row['state spectrum S'], row['state spectrum G']),\n",
    "    axis = 1,\n",
    ")"
   ]
  },
  {
   "cell_type": "code",
   "execution_count": 20,
   "id": "excessive-volume",
   "metadata": {},
   "outputs": [
    {
     "data": {
      "image/png": "[encoded data removed]",
      "text/plain": [
       "<Figure size 249.355x249.355 with 1 Axes>"
      ]
     },
     "metadata": {
      "needs_background": "light"
     },
     "output_type": "display_data"
    }
   ],
   "source": [
    "from matplotlib import rc\n",
    "rc('font',**{'family':'serif','serif':['Times']})\n",
    "rc('text', usetex=True)\n",
    "\n",
    "fig, ax = plt.subplots(figsize=(6.92654/2, 6.92654/2))\n",
    "\n",
    "df.boxplot('Improvement in Approximation Ratio', by='Number of aligned energy levels', ax=ax, whis=(0,100))\n",
    "plt.suptitle('')\n",
    "plt.title('')\n",
    "plt.ylabel('Improvement in approximation ratio')\n",
    "plt.tight_layout()\n",
    "plt.savefig('energy_lvl_alignment.pdf')"
   ]
  },
  {
   "cell_type": "code",
   "execution_count": 190,
   "id": "mechanical-arizona",
   "metadata": {},
   "outputs": [
    {
     "name": "stdout",
     "output_type": "stream",
     "text": [
      "1449\n",
      "261\n",
      "108\n",
      "18\n"
     ]
    }
   ],
   "source": [
    "for x in set(df['num matching energy subspaces']):\n",
    "    print(sum(df['num matching energy subspaces'] == x))"
   ]
  },
  {
   "cell_type": "code",
   "execution_count": 16,
   "id": "compact-reply",
   "metadata": {},
   "outputs": [],
   "source": [
    "!open ."
   ]
  },
  {
   "cell_type": "code",
   "execution_count": null,
   "id": "existing-british",
   "metadata": {},
   "outputs": [],
   "source": []
  }
 ],
 "metadata": {
  "kernelspec": {
   "display_name": "Python 3",
   "language": "python",
   "name": "python3"
  },
  "language_info": {
   "codemirror_mode": {
    "name": "ipython",
    "version": 3
   },
   "file_extension": ".py",
   "mimetype": "text/x-python",
   "name": "python",
   "nbconvert_exporter": "python",
   "pygments_lexer": "ipython3",
   "version": "3.8.8"
  }
 },
 "nbformat": 4,
 "nbformat_minor": 5
}
